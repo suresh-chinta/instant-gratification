{
 "cells": [
  {
   "cell_type": "code",
   "execution_count": 1,
   "metadata": {
    "_cell_guid": "b1076dfc-b9ad-4769-8c92-a6c4dae69d19",
    "_uuid": "8f2839f25d086af736a60e9eeb907d3b93b6e0e5"
   },
   "outputs": [
    {
     "name": "stdout",
     "output_type": "stream",
     "text": [
      "['trainoof', 'instant-gratification']\n"
     ]
    }
   ],
   "source": [
    "# This Python 3 environment comes with many helpful analytics libraries installed\n",
    "# It is defined by the kaggle/python docker image: https://github.com/kaggle/docker-python\n",
    "# For example, here's several helpful packages to load in \n",
    "\n",
    "import numpy as np, pandas as pd, os\n",
    "from sklearn.discriminant_analysis import QuadraticDiscriminantAnalysis\n",
    "from sklearn.feature_selection import VarianceThreshold\n",
    "from sklearn.model_selection import StratifiedKFold\n",
    "from sklearn.metrics import roc_auc_score\n",
    "from sklearn.svm import LinearSVC\n",
    "from sklearn.feature_selection import SelectFromModel\n",
    "from sklearn.feature_selection import SelectKBest\n",
    "\n",
    "\n",
    "# Input data files are available in the \"../input/\" directory.\n",
    "# For example, running this (by clicking run or pressing Shift+Enter) will list the files in the input directory\n",
    "\n",
    "import os\n",
    "print(os.listdir(\"../input\"))\n",
    "\n",
    "# Any results you write to the current directory are saved as output."
   ]
  },
  {
   "cell_type": "code",
   "execution_count": 2,
   "metadata": {
    "_cell_guid": "79c7e3d0-c299-4dcb-8224-4455121ee9b0",
    "_uuid": "d629ff2d2480ee46fbb7e2d37f6b5fab8052498a"
   },
   "outputs": [],
   "source": [
    "train = pd.read_csv('../input/instant-gratification/train.csv')\n",
    "test = pd.read_csv('../input/instant-gratification/test.csv')"
   ]
  },
  {
   "cell_type": "code",
   "execution_count": 3,
   "metadata": {},
   "outputs": [
    {
     "name": "stdout",
     "output_type": "stream",
     "text": [
      "QDA scores CV = 0.96541, iteration = 511\n",
      "Number of flipped records =  1311\n",
      "QDA scores CV = 0.97513, iteration = 511\n",
      "Number of flipped records =  1311\n",
      "QDA scores CV = 0.98251, iteration = 511\n",
      "Number of flipped records =  1311\n"
     ]
    }
   ],
   "source": [
    "for i in range(3):\n",
    "    # INITIALIZE VARIABLES\n",
    "    cols = [c for c in train.columns if c not in ['id', 'target']]\n",
    "    cols.remove('wheezy-copper-turtle-magic')\n",
    "    oof = np.zeros(len(train))\n",
    "    preds = np.zeros(len(test))\n",
    "\n",
    "    # BUILD 512 SEPARATE MODELS\n",
    "    for i in range(512):\n",
    "        # ONLY TRAIN WITH DATA WHERE WHEEZY EQUALS I\n",
    "        train2 = train[train['wheezy-copper-turtle-magic']==i]\n",
    "        test2 = test[test['wheezy-copper-turtle-magic']==i]\n",
    "        idx1 = train2.index; idx2 = test2.index\n",
    "        train2.reset_index(drop=True,inplace=True)\n",
    "\n",
    "        # FEATURE SELECTION (USE APPROX 40 OF 255 FEATURES)\n",
    "        sel = VarianceThreshold(threshold=1.5).fit(train2[cols])\n",
    "        train3 = sel.transform(train2[cols])\n",
    "        test3 = sel.transform(test2[cols])\n",
    "\n",
    "        # STRATIFIED K-FOLD\n",
    "        skf = StratifiedKFold(n_splits=11, random_state=42, shuffle=True)\n",
    "        for train_index, test_index in skf.split(train3, train2['target']):\n",
    "\n",
    "            # MODEL AND PREDICT WITH QDA\n",
    "            clf = QuadraticDiscriminantAnalysis(reg_param=0.5)\n",
    "            clf.fit(train3[train_index,:],train2.loc[train_index]['target'])\n",
    "            oof[idx1[test_index]] = clf.predict_proba(train3[test_index,:])[:,1]\n",
    "            preds[idx2] += clf.predict_proba(test3)[:,1] / skf.n_splits\n",
    "\n",
    "        #if i%64==0: print(i)\n",
    "\n",
    "    # PRINT CV AUC\n",
    "    auc = roc_auc_score(train['target'],oof)\n",
    "    print('QDA scores CV = {}, iteration = {}'.format(round(auc,5), i))\n",
    "    \n",
    "    y = train['target'].copy()\n",
    "    abs_dists = np.abs(oof-y)\n",
    "\n",
    "    confs = np.argsort(abs_dists)[::-1]\n",
    "    splitat = int(np.ceil(confs.shape[0] * 0.005)) #get the worse 5%\n",
    "    wrongs = confs[:splitat]\n",
    "    y_new = y.copy()\n",
    "    y_new[wrongs] = 1- y[wrongs]\n",
    "    train['target'] = y_new\n",
    "    print(\"Number of flipped records = \",np.sum(y_new != y))"
   ]
  },
  {
   "cell_type": "code",
   "execution_count": 4,
   "metadata": {},
   "outputs": [],
   "source": [
    "import pickle\n",
    "\n",
    "with open('../input/trainoof/prediction.pkl', 'rb') as f:\n",
    "    vlads = pickle.load(f)"
   ]
  },
  {
   "cell_type": "code",
   "execution_count": 5,
   "metadata": {},
   "outputs": [
    {
     "name": "stdout",
     "output_type": "stream",
     "text": [
      "0\n",
      "64\n",
      "128\n",
      "192\n",
      "256\n",
      "320\n",
      "384\n",
      "448\n",
      "Pseudo Labeled QDA scores CV = 0.98857\n",
      "Number of flipped records =  1311\n",
      "0\n",
      "64\n",
      "128\n",
      "192\n",
      "256\n",
      "320\n",
      "384\n",
      "448\n",
      "Pseudo Labeled QDA scores CV = 0.99214\n",
      "Number of flipped records =  1311\n",
      "0\n",
      "64\n",
      "128\n",
      "192\n",
      "256\n",
      "320\n",
      "384\n",
      "448\n",
      "Pseudo Labeled QDA scores CV = 0.99424\n",
      "Number of flipped records =  1311\n"
     ]
    }
   ],
   "source": [
    "preds[0:131073] = vlads[0:131073]\n",
    "test['target'] = preds\n",
    "        \n",
    "for i in range(3):\n",
    "        # INITIALIZE VARIABLES\n",
    "        oof = np.zeros(len(train))\n",
    "        preds = np.zeros(len(test))\n",
    "        t0, t1 = 0.01, 0.99\n",
    "\n",
    "        # BUILD 512 SEPARATE MODELS\n",
    "        for k in range(512):\n",
    "            # ONLY TRAIN WITH DATA WHERE WHEEZY EQUALS I\n",
    "            train0 = train[train['wheezy-copper-turtle-magic']==k] \n",
    "            idx1 = train0.index \n",
    "            test0 = test[test['wheezy-copper-turtle-magic']==k]\n",
    "\n",
    "\n",
    "            t_index = test0.index   \n",
    "\n",
    "            test0.reset_index(drop=True,inplace=True)\n",
    "\n",
    "\n",
    "\n",
    "            # STRATIFIED K FOLD\n",
    "            skf = StratifiedKFold(n_splits=11, random_state=42, shuffle=True)\n",
    "            for train_index, test_index in skf.split(train0, train0['target']):\n",
    "\n",
    "                x_train, x_valid = train0[cols].iloc[train_index], train0[cols].iloc[test_index]\n",
    "                y_train, y_valid = train0['target'].iloc[train_index], train0['target'].iloc[test_index]\n",
    "\n",
    "                sel = VarianceThreshold(threshold=3.6).fit(x_train)     \n",
    "                x_train = sel.transform(x_train)\n",
    "                x_test = sel.transform(test0[cols])\n",
    "                x_valid = sel.transform(x_valid)\n",
    "\n",
    "\n",
    "                test2p = pd.DataFrame(x_test)\n",
    "                test2p['target'] = test0['target'].values\n",
    "                test2p = test2p[(test0['target']<= t0) | (test0['target'] >= t1)]\n",
    "                test2p.loc[test2p['target']>=0.5, 'target' ] = 1\n",
    "                test2p.loc[test2p['target']<0.5, 'target' ] =  0 \n",
    "\n",
    "                x_train = np.concatenate([x_train, test2p.drop(labels=['target'], axis=1).values])\n",
    "                y_train = np.concatenate([y_train, test2p['target'].values])\n",
    "\n",
    "\n",
    "                # MODEL AND PREDICT WITH QDA\n",
    "                clf = QuadraticDiscriminantAnalysis(reg_param=0.5)\n",
    "                clf.fit(x_train, y_train)\n",
    "                oof[idx1[test_index]] = clf.predict_proba(x_valid)[:,1]\n",
    "                preds[t_index] += clf.predict_proba(x_test)[:,1] / skf.n_splits\n",
    "\n",
    "            if k%64==0: print(k)\n",
    "\n",
    "        # PRINT CV AUC\n",
    "        auc = roc_auc_score(train['target'],oof)\n",
    "        print('Pseudo Labeled QDA scores CV =',round(auc,5))\n",
    "        \n",
    "        y = train['target'].copy()\n",
    "        abs_dists = np.abs(oof-y)\n",
    "\n",
    "        confs = np.argsort(abs_dists)[::-1]\n",
    "        splitat = int(np.ceil(confs.shape[0] * 0.005)) #get the worse 5%\n",
    "        wrongs = confs[:splitat]\n",
    "        y_new = y.copy()\n",
    "        y_new[wrongs] = 1- y[wrongs]\n",
    "        train['target'] = y_new\n",
    "        print(\"Number of flipped records = \",np.sum(y_new != y))"
   ]
  },
  {
   "cell_type": "code",
   "execution_count": 6,
   "metadata": {},
   "outputs": [
    {
     "data": {
      "image/png": "[encoded data removed]",
      "text/plain": [
       "<Figure size 432x288 with 1 Axes>"
      ]
     },
     "metadata": {},
     "output_type": "display_data"
    }
   ],
   "source": [
    "sub = pd.read_csv('../input/instant-gratification/sample_submission.csv')\n",
    "sub['target'] = preds\n",
    "sub.to_csv('submission.csv',index=False)\n",
    "\n",
    "import matplotlib.pyplot as plt\n",
    "plt.hist(preds,bins=100)\n",
    "plt.title('Final Test.csv predictions')\n",
    "plt.show()"
   ]
  }
 ],
 "metadata": {
  "kernelspec": {
   "display_name": "Python 3",
   "language": "python",
   "name": "python3"
  },
  "language_info": {
   "codemirror_mode": {
    "name": "ipython",
    "version": 3
   },
   "file_extension": ".py",
   "mimetype": "text/x-python",
   "name": "python",
   "nbconvert_exporter": "python",
   "pygments_lexer": "ipython3",
   "version": "3.6.4"
  }
 },
 "nbformat": 4,
 "nbformat_minor": 1
}
